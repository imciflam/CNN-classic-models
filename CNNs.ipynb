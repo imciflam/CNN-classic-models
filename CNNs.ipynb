{
  "nbformat": 4,
  "nbformat_minor": 0,
  "metadata": {
    "kernelspec": {
      "display_name": "Python 3",
      "language": "python",
      "name": "python3"
    },
    "language_info": {
      "codemirror_mode": {
        "name": "ipython",
        "version": 3
      },
      "file_extension": ".py",
      "mimetype": "text/x-python",
      "name": "python",
      "nbconvert_exporter": "python",
      "pygments_lexer": "ipython3",
      "version": "3.7.6"
    },
    "colab": {
      "name": "CNNs.ipynb",
      "provenance": [],
      "collapsed_sections": []
    },
    "accelerator": "GPU"
  },
  "cells": [
    {
      "cell_type": "code",
      "metadata": {
        "id": "sHupZD8r0Tlz"
      },
      "source": [
        "import tensorflow as tf\n",
        "from tensorflow import keras\n",
        "import numpy as np\n",
        "import time\n",
        "import os\n",
        "import matplotlib.pyplot as plt \n"
      ],
      "execution_count": null,
      "outputs": []
    },
    {
      "cell_type": "code",
      "metadata": {
        "id": "QUm_yYOq0Tl4",
        "outputId": "5ceb025c-6dce-4d94-edfa-45f7164dd61d",
        "colab": {
          "base_uri": "https://localhost:8080/"
        }
      },
      "source": [
        "(train_x, train_y), (test_x, test_y) = keras.datasets.mnist.load_data()\n",
        "train_x = train_x / 255.0\n",
        "test_x = test_x / 255.0\n",
        "\n",
        "train_x = tf.expand_dims(train_x, 3)\n",
        "test_x = tf.expand_dims(test_x, 3)\n"
      ],
      "execution_count": null,
      "outputs": [
        {
          "output_type": "stream",
          "text": [
            "Downloading data from https://storage.googleapis.com/tensorflow/tf-keras-datasets/mnist.npz\n",
            "11493376/11490434 [==============================] - 0s 0us/step\n"
          ],
          "name": "stdout"
        }
      ]
    },
    {
      "cell_type": "markdown",
      "metadata": {
        "id": "fbhtGPpp8VNQ"
      },
      "source": [
        "7-level convolutional network by LeCun et al in 1998\n",
        "\n",
        "c1 produces as output 6 feature maps, and has a kernel size of 5x5.\n",
        "s2 layer halves the dimension of the feature maps it receives from the previous layer; this is known commonly as downsampling. Also produces 6 feature maps, each one corresponding to the feature maps passed as input from the previous layer\n",
        "\n",
        "The purpose of flatten layer is to transform its input to a 1-dimensional array that can be fed into the subsequent dense layers.\n"
      ]
    },
    {
      "cell_type": "code",
      "metadata": {
        "id": "XlkKVoIR0Tl7"
      },
      "source": [
        "lenet_5_model = keras.models.Sequential([\n",
        "    keras.layers.Conv2D(6, kernel_size=5, strides=1,  activation='tanh', input_shape=train_x[0].shape, padding='same'), #C1 \n",
        "    keras.layers.AveragePooling2D(), #S2\n",
        "    keras.layers.Conv2D(16, kernel_size=5, strides=1, activation='tanh', padding='valid'), #C3\n",
        "    keras.layers.AveragePooling2D(), #S4\n",
        "    keras.layers.Flatten(), #Flatten\n",
        "    keras.layers.Dense(120, activation='tanh'), #C5\n",
        "    keras.layers.Dense(84, activation='tanh'), #F6\n",
        "    keras.layers.Dense(10, activation='softmax') #Output layer Multi-class, single-label classification => softmax, returns an array of 10 probability scores\n",
        "\n",
        "])"
      ],
      "execution_count": null,
      "outputs": []
    },
    {
      "cell_type": "code",
      "metadata": {
        "id": "MgUhSvyb0Tl9"
      },
      "source": [
        "lenet_5_model.compile(optimizer='adam', loss=keras.losses.sparse_categorical_crossentropy, metrics=['accuracy'])"
      ],
      "execution_count": null,
      "outputs": []
    },
    {
      "cell_type": "code",
      "metadata": {
        "id": "M6lrtCVr0TmC",
        "outputId": "12f0c900-b190-430b-ec6b-7ced331d61d2",
        "colab": {
          "base_uri": "https://localhost:8080/"
        }
      },
      "source": [
        "lenet_5_model.fit(train_x, train_y, epochs=5, validation_data=(test_x, test_y))"
      ],
      "execution_count": null,
      "outputs": [
        {
          "output_type": "stream",
          "text": [
            "Epoch 1/5\n",
            "1875/1875 [==============================] - 5s 3ms/step - loss: 0.2186 - accuracy: 0.9348 - val_loss: 0.0973 - val_accuracy: 0.9698\n",
            "Epoch 2/5\n",
            "1875/1875 [==============================] - 5s 3ms/step - loss: 0.0873 - accuracy: 0.9729 - val_loss: 0.0716 - val_accuracy: 0.9780\n",
            "Epoch 3/5\n",
            "1875/1875 [==============================] - 5s 3ms/step - loss: 0.0594 - accuracy: 0.9819 - val_loss: 0.0600 - val_accuracy: 0.9806\n",
            "Epoch 4/5\n",
            "1875/1875 [==============================] - 5s 3ms/step - loss: 0.0446 - accuracy: 0.9861 - val_loss: 0.0588 - val_accuracy: 0.9823\n",
            "Epoch 5/5\n",
            "1875/1875 [==============================] - 5s 3ms/step - loss: 0.0364 - accuracy: 0.9884 - val_loss: 0.0536 - val_accuracy: 0.9828\n"
          ],
          "name": "stdout"
        },
        {
          "output_type": "execute_result",
          "data": {
            "text/plain": [
              "<tensorflow.python.keras.callbacks.History at 0x7f992a73f518>"
            ]
          },
          "metadata": {
            "tags": []
          },
          "execution_count": 8
        }
      ]
    },
    {
      "cell_type": "code",
      "metadata": {
        "id": "27zkNild0TmG",
        "outputId": "23d7d1a5-e7d1-47ec-eed5-808050f38093",
        "colab": {
          "base_uri": "https://localhost:8080/"
        }
      },
      "source": [
        "lenet_5_model.evaluate(test_x, test_y)"
      ],
      "execution_count": null,
      "outputs": [
        {
          "output_type": "stream",
          "text": [
            "313/313 [==============================] - 1s 2ms/step - loss: 0.0536 - accuracy: 0.9828\n"
          ],
          "name": "stdout"
        },
        {
          "output_type": "execute_result",
          "data": {
            "text/plain": [
              "[0.053599707782268524, 0.9828000068664551]"
            ]
          },
          "metadata": {
            "tags": []
          },
          "execution_count": 9
        }
      ]
    },
    {
      "cell_type": "code",
      "metadata": {
        "id": "hCnBOxKm0q2F",
        "outputId": "1a316c9e-6bc6-44d4-abac-e2dba35b31c4",
        "colab": {
          "base_uri": "https://localhost:8080/"
        }
      },
      "source": [
        "lenet_5_predictions = lenet_5_model.predict(test_x)\n",
        "print(lenet_5_predictions[1])\n",
        "print(np.argmax(lenet_5_predictions[1]))"
      ],
      "execution_count": null,
      "outputs": [
        {
          "output_type": "stream",
          "text": [
            "[1.0803288e-06 2.9223288e-06 9.9995804e-01 2.1581936e-06 2.2051426e-08\n",
            " 2.0388828e-08 4.5436200e-06 3.1516121e-09 3.1171712e-05 1.7954845e-09]\n",
            "2\n"
          ],
          "name": "stdout"
        }
      ]
    },
    {
      "cell_type": "code",
      "metadata": {
        "id": "sQx8E6923o33"
      },
      "source": [
        "\n",
        "lenet_5_predictions_list = []\n",
        "\n",
        "fig=plt.figure(figsize=(15, 8))\n",
        "columns = 5\n",
        "rows = 1\n",
        "for i in range(1, columns*rows +1):\n",
        "    print(test_x[i])\n",
        "    img = np.squeeze(test_x[i])\n",
        "    fig.add_subplot(rows, columns, i)\n",
        "    plt.imshow(img)\n",
        "    print(\"predicted value:\", np.argmax(lenet_5_predictions[i]), \"with possibility\", np.max(lenet_5_predictions[i])) \n",
        "    print(\"most possible values:\", np.flip(np.argsort(lenet_5_predictions[i]))[:3])\n",
        "    print(\"their possibility:\", np.flip(np.sort(lenet_5_predictions[i]))[:3])\n",
        "    if (i<6):\n",
        "      lenet_5_predictions_sublist = \"\"\n",
        "      for idx, val in enumerate(np.flip(np.argsort(lenet_5_predictions[i]))[:5]):\n",
        "        top_vals = np.flip(np.argsort(lenet_5_predictions[i]))[:5]\n",
        "        pred_result_string = (f'{np.flip(np.argsort(lenet_5_predictions[i]))[:5][idx]} {np.flip(np.sort(lenet_5_predictions[i]))[:5][idx]}') \n",
        "        lenet_5_predictions_sublist+=(pred_result_string) \n",
        "      lenet_5_predictions_list.append(lenet_5_predictions_sublist)\n",
        "plt.show()\n",
        "print(lenet_5_predictions_list) \n",
        "\n"
      ],
      "execution_count": null,
      "outputs": []
    },
    {
      "cell_type": "markdown",
      "metadata": {
        "id": "92_dMJhO8j6T"
      },
      "source": [
        "The network had a very similar architecture as LeNet by Yann LeCun et al but was deeper, with more filters per layer, and with stacked convolutional layers. It consisted 11x11, 5x5,3x3, convolutions, max pooling, dropout, data augmentation, ReLU activations, SGD with momentum. It attached ReLU activations after every convolutional and fully-connected layer."
      ]
    },
    {
      "cell_type": "code",
      "metadata": {
        "id": "zFcFg7IZ7Ixv"
      },
      "source": [
        "AlexModel = keras.models.Sequential([\n",
        "    keras.layers.Conv2D(6, kernel_size=5, strides=1,  activation='tanh', input_shape=train_x[0].shape, padding='same'), #C1\n",
        "    keras.layers.BatchNormalization(),\n",
        "    keras.layers.MaxPool2D(pool_size=(3,3), strides=(2,2)),\n",
        "    keras.layers.Conv2D(filters=256, kernel_size=(5,5), strides=(1,1), activation='relu', padding=\"same\"),\n",
        "    keras.layers.BatchNormalization(),\n",
        "    keras.layers.MaxPool2D(pool_size=(3,3), strides=(2,2)),\n",
        "    keras.layers.Conv2D(filters=384, kernel_size=(3,3), strides=(1,1), activation='relu', padding=\"same\"),\n",
        "    keras.layers.BatchNormalization(),\n",
        "    keras.layers.Conv2D(filters=384, kernel_size=(1,1), strides=(1,1), activation='relu', padding=\"same\"),\n",
        "    keras.layers.BatchNormalization(),\n",
        "    keras.layers.Conv2D(filters=256, kernel_size=(1,1), strides=(1,1), activation='relu', padding=\"same\"),\n",
        "    keras.layers.BatchNormalization(),\n",
        "    keras.layers.MaxPool2D(pool_size=(3,3), strides=(2,2)),\n",
        "    keras.layers.Flatten(),\n",
        "    keras.layers.Dense(4096, activation='relu'),\n",
        "    keras.layers.Dropout(0.5),\n",
        "    keras.layers.Dense(4096, activation='relu'),\n",
        "    keras.layers.Dropout(0.5),\n",
        "    keras.layers.Dense(10, activation='softmax')\n",
        "])\n",
        " "
      ],
      "execution_count": null,
      "outputs": []
    },
    {
      "cell_type": "code",
      "metadata": {
        "id": "ixRYK-Fe7R9C",
        "outputId": "7f6cb210-3bd9-4fbe-e4e6-5cdfe3e00a99",
        "colab": {
          "base_uri": "https://localhost:8080/"
        }
      },
      "source": [
        "AlexModel.compile(loss='sparse_categorical_crossentropy', optimizer=tf.optimizers.SGD(lr=0.001), metrics=['accuracy'])\n",
        "AlexModel.summary()"
      ],
      "execution_count": null,
      "outputs": [
        {
          "output_type": "stream",
          "text": [
            "Model: \"sequential_1\"\n",
            "_________________________________________________________________\n",
            "Layer (type)                 Output Shape              Param #   \n",
            "=================================================================\n",
            "conv2d_2 (Conv2D)            (None, 28, 28, 6)         156       \n",
            "_________________________________________________________________\n",
            "batch_normalization (BatchNo (None, 28, 28, 6)         24        \n",
            "_________________________________________________________________\n",
            "max_pooling2d (MaxPooling2D) (None, 13, 13, 6)         0         \n",
            "_________________________________________________________________\n",
            "conv2d_3 (Conv2D)            (None, 13, 13, 256)       38656     \n",
            "_________________________________________________________________\n",
            "batch_normalization_1 (Batch (None, 13, 13, 256)       1024      \n",
            "_________________________________________________________________\n",
            "max_pooling2d_1 (MaxPooling2 (None, 6, 6, 256)         0         \n",
            "_________________________________________________________________\n",
            "conv2d_4 (Conv2D)            (None, 6, 6, 384)         885120    \n",
            "_________________________________________________________________\n",
            "batch_normalization_2 (Batch (None, 6, 6, 384)         1536      \n",
            "_________________________________________________________________\n",
            "conv2d_5 (Conv2D)            (None, 6, 6, 384)         147840    \n",
            "_________________________________________________________________\n",
            "batch_normalization_3 (Batch (None, 6, 6, 384)         1536      \n",
            "_________________________________________________________________\n",
            "conv2d_6 (Conv2D)            (None, 6, 6, 256)         98560     \n",
            "_________________________________________________________________\n",
            "batch_normalization_4 (Batch (None, 6, 6, 256)         1024      \n",
            "_________________________________________________________________\n",
            "max_pooling2d_2 (MaxPooling2 (None, 2, 2, 256)         0         \n",
            "_________________________________________________________________\n",
            "flatten_1 (Flatten)          (None, 1024)              0         \n",
            "_________________________________________________________________\n",
            "dense_3 (Dense)              (None, 4096)              4198400   \n",
            "_________________________________________________________________\n",
            "dropout (Dropout)            (None, 4096)              0         \n",
            "_________________________________________________________________\n",
            "dense_4 (Dense)              (None, 4096)              16781312  \n",
            "_________________________________________________________________\n",
            "dropout_1 (Dropout)          (None, 4096)              0         \n",
            "_________________________________________________________________\n",
            "dense_5 (Dense)              (None, 10)                40970     \n",
            "=================================================================\n",
            "Total params: 22,196,158\n",
            "Trainable params: 22,193,586\n",
            "Non-trainable params: 2,572\n",
            "_________________________________________________________________\n"
          ],
          "name": "stdout"
        }
      ]
    },
    {
      "cell_type": "code",
      "metadata": {
        "id": "OkfAPBBm7St2",
        "outputId": "3cc74caa-bce4-4469-e0bd-594ed3cb2726",
        "colab": {
          "base_uri": "https://localhost:8080/"
        }
      },
      "source": [
        "AlexModel.fit(train_x, train_y, epochs=5, validation_data=(test_x, test_y))"
      ],
      "execution_count": null,
      "outputs": [
        {
          "output_type": "stream",
          "text": [
            "Epoch 1/5\n",
            "   1/1875 [..............................] - ETA: 0s - loss: 3.8075 - accuracy: 0.1250WARNING:tensorflow:Callbacks method `on_train_batch_end` is slow compared to the batch time (batch time: 0.0053s vs `on_train_batch_end` time: 0.0086s). Check your callbacks.\n",
            "1875/1875 [==============================] - 24s 13ms/step - loss: 0.3862 - accuracy: 0.8789 - val_loss: 0.0755 - val_accuracy: 0.9759\n",
            "Epoch 2/5\n",
            "1875/1875 [==============================] - 23s 13ms/step - loss: 0.1143 - accuracy: 0.9650 - val_loss: 0.0504 - val_accuracy: 0.9840\n",
            "Epoch 3/5\n",
            "1875/1875 [==============================] - 23s 12ms/step - loss: 0.0778 - accuracy: 0.9757 - val_loss: 0.0383 - val_accuracy: 0.9874\n",
            "Epoch 4/5\n",
            "1875/1875 [==============================] - 23s 12ms/step - loss: 0.0608 - accuracy: 0.9810 - val_loss: 0.0323 - val_accuracy: 0.9892\n",
            "Epoch 5/5\n",
            "1875/1875 [==============================] - 23s 12ms/step - loss: 0.0503 - accuracy: 0.9848 - val_loss: 0.0281 - val_accuracy: 0.9910\n"
          ],
          "name": "stdout"
        },
        {
          "output_type": "execute_result",
          "data": {
            "text/plain": [
              "<tensorflow.python.keras.callbacks.History at 0x7f992a299f60>"
            ]
          },
          "metadata": {
            "tags": []
          },
          "execution_count": 14
        }
      ]
    },
    {
      "cell_type": "code",
      "metadata": {
        "id": "UcmIL9y_7uLc",
        "outputId": "2220fd38-caff-4e75-8dff-4aca03787ff0",
        "colab": {
          "base_uri": "https://localhost:8080/"
        }
      },
      "source": [
        "AlexModel.evaluate(test_x, test_y)"
      ],
      "execution_count": null,
      "outputs": [
        {
          "output_type": "stream",
          "text": [
            "313/313 [==============================] - 1s 4ms/step - loss: 0.0281 - accuracy: 0.9910\n"
          ],
          "name": "stdout"
        },
        {
          "output_type": "execute_result",
          "data": {
            "text/plain": [
              "[0.028094958513975143, 0.9909999966621399]"
            ]
          },
          "metadata": {
            "tags": []
          },
          "execution_count": 15
        }
      ]
    },
    {
      "cell_type": "code",
      "metadata": {
        "id": "EGkyu8Zt98U6",
        "outputId": "59b84dbd-cf14-4420-e609-8fa0b10ea416",
        "colab": {
          "base_uri": "https://localhost:8080/"
        }
      },
      "source": [
        "alex_predictions = AlexModel.predict(test_x)\n",
        "print(alex_predictions[1])\n",
        "print(np.argmax(alex_predictions[1]))"
      ],
      "execution_count": null,
      "outputs": [
        {
          "output_type": "stream",
          "text": [
            "[2.96624312e-05 2.22892122e-04 9.99736249e-01 4.08822825e-06\n",
            " 1.10914314e-07 2.22987122e-08 4.43862336e-06 1.38343682e-06\n",
            " 1.11262602e-06 5.63812961e-08]\n",
            "2\n"
          ],
          "name": "stdout"
        }
      ]
    },
    {
      "cell_type": "code",
      "metadata": {
        "id": "0s_SIroq-Cjb",
        "outputId": "96a11ef7-5e4a-4b09-a074-a3349f18c64e",
        "colab": {
          "base_uri": "https://localhost:8080/",
          "height": 486
        }
      },
      "source": [
        "alex_predictions_list = []\n",
        "\n",
        "fig=plt.figure(figsize=(15, 8))\n",
        "columns = 5\n",
        "rows = 1\n",
        "for i in range(1, columns*rows +1):\n",
        "    img = np.squeeze(test_x[i])\n",
        "    fig.add_subplot(rows, columns, i)\n",
        "    plt.imshow(img)\n",
        "    print(\"predicted value:\", np.argmax(alex_predictions[i]), \"with possibility\", np.max(alex_predictions[i])) \n",
        "    print(\"most possible values:\", np.flip(np.argsort(alex_predictions[i]))[:3])\n",
        "    print(\"their possibility:\", np.flip(np.sort(alex_predictions[i]))[:3])\n",
        "    if (i<6):\n",
        "      alex_predictions_sublist = \"\"\n",
        "      for idx, val in enumerate(np.flip(np.argsort(alex_predictions[i]))[:5]):\n",
        "        top_vals = np.flip(np.argsort(alex_predictions[i]))[:5]\n",
        "        pred_result_string = (f'{np.flip(np.argsort(alex_predictions[i]))[:5][idx]} {np.flip(np.sort(alex_predictions[i]))[:5][idx]}') \n",
        "        alex_predictions_sublist+=(pred_result_string) \n",
        "      alex_predictions_list.append(alex_predictions_sublist)\n",
        "plt.show()\n",
        "print(alex_predictions_list) \n"
      ],
      "execution_count": null,
      "outputs": [
        {
          "output_type": "stream",
          "text": [
            "predicted value: 2 with possibility 0.99973625\n",
            "most possible values: [2 1 0]\n",
            "their possibility: [9.9973625e-01 2.2289212e-04 2.9662431e-05]\n",
            "predicted value: 1 with possibility 0.9999684\n",
            "most possible values: [1 7 4]\n",
            "their possibility: [9.9996841e-01 1.4397696e-05 7.3638694e-06]\n",
            "predicted value: 0 with possibility 0.9998845\n",
            "most possible values: [0 6 9]\n",
            "their possibility: [9.99884486e-01 1.11361915e-04 1.24058784e-06]\n",
            "predicted value: 4 with possibility 0.99982697\n",
            "most possible values: [4 9 1]\n",
            "their possibility: [9.9982697e-01 1.6966558e-04 1.2471533e-06]\n",
            "predicted value: 1 with possibility 0.99998724\n",
            "most possible values: [1 7 4]\n",
            "their possibility: [9.9998724e-01 8.1955350e-06 1.6007201e-06]\n"
          ],
          "name": "stdout"
        },
        {
          "output_type": "display_data",
          "data": {
            "image/png": "[encoded data removed]",
            "text/plain": [
              "<Figure size 1080x576 with 5 Axes>"
            ]
          },
          "metadata": {
            "tags": [],
            "needs_background": "light"
          }
        },
        {
          "output_type": "stream",
          "text": [
            "['2 0.99973624944686891 0.000222892122110351920 2.9662431188626215e-056 4.438623363967054e-063 4.088228251930559e-06', '1 0.9999684095382697 1.4397695849766023e-054 7.363869372056797e-066 3.259788172726985e-065 1.9887197595380712e-06', '0 0.99988448619842536 0.000111361914605367939 1.2405878351273714e-061 1.1661438747978536e-064 5.554975928134809e-07', '4 0.9998269677162179 0.000169665581779554491 1.2471532500057947e-067 8.330443961312994e-076 4.496745305004879e-07', '1 0.99998724460601817 8.195534974220209e-064 1.6007201111278846e-066 9.459104148845654e-070 8.573661602895299e-07']\n"
          ],
          "name": "stdout"
        }
      ]
    },
    {
      "cell_type": "code",
      "metadata": {
        "id": "zBej-KVT_gvb"
      },
      "source": [
        "VGG16_model= keras.models.Sequential([\n",
        "                                      \n",
        "keras.layers.ZeroPadding2D((1,1),input_shape=(28, 28, 1)),\n",
        "keras.layers.Conv2D(64, (3, 3), input_shape=(28, 28, 1), padding='same', activation='relu'),\n",
        "keras.layers.ZeroPadding2D((1,1)),\n",
        "keras.layers.Conv2D(64, (3, 3), input_shape=(28, 28, 1), padding='same', activation='relu'),\n",
        "keras.layers.MaxPool2D((2,2), strides=(2,2)),\n",
        "\n",
        "\n",
        "keras.layers.ZeroPadding2D((1,1)),\n",
        "keras.layers.Conv2D(128, (3, 3), padding='same', activation='relu'),\n",
        "keras.layers.ZeroPadding2D((1,1)),\n",
        "keras.layers.Conv2D(128, (3, 3), padding='same', activation='relu'),\n",
        "keras.layers.MaxPool2D((2,2), strides=(2,2)),\n",
        "\n",
        "\n",
        "keras.layers.ZeroPadding2D((1,1)),\n",
        "keras.layers.Conv2D(256, (3, 3), padding='same', activation='relu'),\n",
        "keras.layers.ZeroPadding2D((1,1)),\n",
        "keras.layers.Conv2D(256, (3, 3), padding='same', activation='relu'),\n",
        "keras.layers.ZeroPadding2D((1,1)),\n",
        "keras.layers.Conv2D(256, (3, 3), padding='same', activation='relu'),\n",
        "keras.layers.MaxPool2D((2,2), strides=(2,2)),\n",
        "\n",
        "keras.layers.ZeroPadding2D((1,1)),\n",
        "keras.layers.Conv2D(512, (3, 3), padding='same', activation='relu'),\n",
        "keras.layers.ZeroPadding2D((1,1)),\n",
        "keras.layers.Conv2D(512, (3, 3), padding='same', activation='relu'),\n",
        "keras.layers.ZeroPadding2D((1,1)),\n",
        "keras.layers.Conv2D(512, (3, 3), padding='same', activation='relu'),\n",
        "keras.layers.MaxPool2D((2,2), strides=(2,2)),\n",
        "\n",
        "\n",
        "keras.layers.ZeroPadding2D((1,1)),\n",
        "keras.layers.Conv2D(512, (3, 3), padding='same', activation='relu'),\n",
        "keras.layers.ZeroPadding2D((1,1)),\n",
        "keras.layers.Conv2D(512, (3, 3), padding='same', activation='relu'),\n",
        "keras.layers.ZeroPadding2D((1,1)),\n",
        "keras.layers.Conv2D(512, (3, 3), padding='same', activation='relu'),\n",
        "keras.layers.MaxPool2D((2,2), strides=(2,2)),\n",
        "\n",
        "keras.layers.Flatten(),\n",
        "keras.layers.Dense(4096, activation='relu'),\n",
        "keras.layers.Dropout(0.5),\n",
        "keras.layers.Dense(4096, activation='relu'),\n",
        "keras.layers.Dropout(0.5),\n",
        "keras.layers.Dense(10, activation='softmax'),\n",
        "]) \n",
        " "
      ],
      "execution_count": null,
      "outputs": []
    },
    {
      "cell_type": "code",
      "metadata": {
        "id": "ZeLeKVK6Rd0B",
        "outputId": "05f527ff-deeb-4cee-c42f-98313e76b6d7",
        "colab": {
          "base_uri": "https://localhost:8080/"
        }
      },
      "source": [
        "VGG16_model.compile(loss='sparse_categorical_crossentropy', optimizer=tf.optimizers.SGD(lr=0.001), metrics=['accuracy'])\n",
        "VGG16_model.summary()"
      ],
      "execution_count": null,
      "outputs": [
        {
          "output_type": "stream",
          "text": [
            "Model: \"sequential_2\"\n",
            "_________________________________________________________________\n",
            "Layer (type)                 Output Shape              Param #   \n",
            "=================================================================\n",
            "zero_padding2d (ZeroPadding2 (None, 30, 30, 1)         0         \n",
            "_________________________________________________________________\n",
            "conv2d_7 (Conv2D)            (None, 30, 30, 64)        640       \n",
            "_________________________________________________________________\n",
            "zero_padding2d_1 (ZeroPaddin (None, 32, 32, 64)        0         \n",
            "_________________________________________________________________\n",
            "conv2d_8 (Conv2D)            (None, 32, 32, 64)        36928     \n",
            "_________________________________________________________________\n",
            "max_pooling2d_3 (MaxPooling2 (None, 16, 16, 64)        0         \n",
            "_________________________________________________________________\n",
            "zero_padding2d_2 (ZeroPaddin (None, 18, 18, 64)        0         \n",
            "_________________________________________________________________\n",
            "conv2d_9 (Conv2D)            (None, 18, 18, 128)       73856     \n",
            "_________________________________________________________________\n",
            "zero_padding2d_3 (ZeroPaddin (None, 20, 20, 128)       0         \n",
            "_________________________________________________________________\n",
            "conv2d_10 (Conv2D)           (None, 20, 20, 128)       147584    \n",
            "_________________________________________________________________\n",
            "max_pooling2d_4 (MaxPooling2 (None, 10, 10, 128)       0         \n",
            "_________________________________________________________________\n",
            "zero_padding2d_4 (ZeroPaddin (None, 12, 12, 128)       0         \n",
            "_________________________________________________________________\n",
            "conv2d_11 (Conv2D)           (None, 12, 12, 256)       295168    \n",
            "_________________________________________________________________\n",
            "zero_padding2d_5 (ZeroPaddin (None, 14, 14, 256)       0         \n",
            "_________________________________________________________________\n",
            "conv2d_12 (Conv2D)           (None, 14, 14, 256)       590080    \n",
            "_________________________________________________________________\n",
            "zero_padding2d_6 (ZeroPaddin (None, 16, 16, 256)       0         \n",
            "_________________________________________________________________\n",
            "conv2d_13 (Conv2D)           (None, 16, 16, 256)       590080    \n",
            "_________________________________________________________________\n",
            "max_pooling2d_5 (MaxPooling2 (None, 8, 8, 256)         0         \n",
            "_________________________________________________________________\n",
            "zero_padding2d_7 (ZeroPaddin (None, 10, 10, 256)       0         \n",
            "_________________________________________________________________\n",
            "conv2d_14 (Conv2D)           (None, 10, 10, 512)       1180160   \n",
            "_________________________________________________________________\n",
            "zero_padding2d_8 (ZeroPaddin (None, 12, 12, 512)       0         \n",
            "_________________________________________________________________\n",
            "conv2d_15 (Conv2D)           (None, 12, 12, 512)       2359808   \n",
            "_________________________________________________________________\n",
            "zero_padding2d_9 (ZeroPaddin (None, 14, 14, 512)       0         \n",
            "_________________________________________________________________\n",
            "conv2d_16 (Conv2D)           (None, 14, 14, 512)       2359808   \n",
            "_________________________________________________________________\n",
            "max_pooling2d_6 (MaxPooling2 (None, 7, 7, 512)         0         \n",
            "_________________________________________________________________\n",
            "zero_padding2d_10 (ZeroPaddi (None, 9, 9, 512)         0         \n",
            "_________________________________________________________________\n",
            "conv2d_17 (Conv2D)           (None, 9, 9, 512)         2359808   \n",
            "_________________________________________________________________\n",
            "zero_padding2d_11 (ZeroPaddi (None, 11, 11, 512)       0         \n",
            "_________________________________________________________________\n",
            "conv2d_18 (Conv2D)           (None, 11, 11, 512)       2359808   \n",
            "_________________________________________________________________\n",
            "zero_padding2d_12 (ZeroPaddi (None, 13, 13, 512)       0         \n",
            "_________________________________________________________________\n",
            "conv2d_19 (Conv2D)           (None, 13, 13, 512)       2359808   \n",
            "_________________________________________________________________\n",
            "max_pooling2d_7 (MaxPooling2 (None, 6, 6, 512)         0         \n",
            "_________________________________________________________________\n",
            "flatten_2 (Flatten)          (None, 18432)             0         \n",
            "_________________________________________________________________\n",
            "dense_6 (Dense)              (None, 4096)              75501568  \n",
            "_________________________________________________________________\n",
            "dropout_2 (Dropout)          (None, 4096)              0         \n",
            "_________________________________________________________________\n",
            "dense_7 (Dense)              (None, 4096)              16781312  \n",
            "_________________________________________________________________\n",
            "dropout_3 (Dropout)          (None, 4096)              0         \n",
            "_________________________________________________________________\n",
            "dense_8 (Dense)              (None, 10)                40970     \n",
            "=================================================================\n",
            "Total params: 107,037,386\n",
            "Trainable params: 107,037,386\n",
            "Non-trainable params: 0\n",
            "_________________________________________________________________\n"
          ],
          "name": "stdout"
        }
      ]
    },
    {
      "cell_type": "code",
      "metadata": {
        "id": "VmlATDcwRjI1",
        "outputId": "e65f0074-b0f6-4d7d-afac-5c096a6e9c3a",
        "colab": {
          "base_uri": "https://localhost:8080/"
        }
      },
      "source": [
        "# VGG16_model.fit(train_x, train_y, epochs=5, validation_data=(test_x, test_y))"
      ],
      "execution_count": null,
      "outputs": [
        {
          "output_type": "stream",
          "text": [
            "Epoch 1/5\n",
            "   2/1875 [..............................] - ETA: 1:29 - loss: 2.3026 - accuracy: 0.0938WARNING:tensorflow:Callbacks method `on_train_batch_end` is slow compared to the batch time (batch time: 0.0056s vs `on_train_batch_end` time: 0.0891s). Check your callbacks.\n",
            "1875/1875 [==============================] - 189s 101ms/step - loss: 2.3020 - accuracy: 0.1131 - val_loss: 2.3014 - val_accuracy: 0.1135\n",
            "Epoch 2/5\n",
            "1875/1875 [==============================] - 188s 100ms/step - loss: 2.3012 - accuracy: 0.1124 - val_loss: 2.3008 - val_accuracy: 0.1135\n",
            "Epoch 3/5\n",
            "1875/1875 [==============================] - 188s 100ms/step - loss: 2.3008 - accuracy: 0.1124 - val_loss: 2.3005 - val_accuracy: 0.1135\n",
            "Epoch 4/5\n",
            "1875/1875 [==============================] - 188s 100ms/step - loss: 2.3006 - accuracy: 0.1124 - val_loss: 2.3002 - val_accuracy: 0.1135\n",
            "Epoch 5/5\n",
            "1875/1875 [==============================] - 188s 100ms/step - loss: 2.3003 - accuracy: 0.1124 - val_loss: 2.2999 - val_accuracy: 0.1135\n"
          ],
          "name": "stdout"
        },
        {
          "output_type": "execute_result",
          "data": {
            "text/plain": [
              "<tensorflow.python.keras.callbacks.History at 0x7f99066c1630>"
            ]
          },
          "metadata": {
            "tags": []
          },
          "execution_count": 20
        }
      ]
    },
    {
      "cell_type": "markdown",
      "metadata": {
        "id": "mRtf4DhcYvGd"
      },
      "source": [
        "didn't work, maybe too few epochs for a complex structure, let's try а simpler one"
      ]
    },
    {
      "cell_type": "code",
      "metadata": {
        "id": "JeCwpLF6YzHD"
      },
      "source": [
        "VGG16_model1= keras.models.Sequential([\n",
        "keras.layers.Conv2D(32, (3, 3), input_shape=(28, 28, 1), padding='same', activation='relu'),\n",
        "keras.layers.MaxPool2D(),\n",
        "keras.layers.Conv2D(64, (3, 3), padding='same', activation='relu'),\n",
        "keras.layers.MaxPool2D(),\n",
        "keras.layers.Flatten(),\n",
        "keras.layers.Dense(128, activation='relu'),\n",
        "keras.layers.Dense(10, activation='sigmoid'),\n",
        "]) \n",
        " "
      ],
      "execution_count": null,
      "outputs": []
    },
    {
      "cell_type": "code",
      "metadata": {
        "id": "Hz2yt8dnZvF4",
        "outputId": "9941ef4a-c7b0-47ff-f993-39bc21765a70",
        "colab": {
          "base_uri": "https://localhost:8080/"
        }
      },
      "source": [
        "VGG16_model1.compile(loss='sparse_categorical_crossentropy', optimizer=tf.optimizers.SGD(lr=0.001), metrics=['accuracy'])\n",
        "\n",
        "VGG16_model1.fit(train_x, train_y, epochs=5, validation_data=(test_x, test_y))"
      ],
      "execution_count": null,
      "outputs": [
        {
          "output_type": "stream",
          "text": [
            "Epoch 1/5\n",
            "1875/1875 [==============================] - 5s 3ms/step - loss: 2.2503 - accuracy: 0.2002 - val_loss: 2.1703 - val_accuracy: 0.3920\n",
            "Epoch 2/5\n",
            "1875/1875 [==============================] - 5s 3ms/step - loss: 1.5561 - accuracy: 0.6593 - val_loss: 0.6012 - val_accuracy: 0.8495\n",
            "Epoch 3/5\n",
            "1875/1875 [==============================] - 5s 3ms/step - loss: 0.4519 - accuracy: 0.8755 - val_loss: 0.3466 - val_accuracy: 0.9027\n",
            "Epoch 4/5\n",
            "1875/1875 [==============================] - 5s 3ms/step - loss: 0.3292 - accuracy: 0.9049 - val_loss: 0.2854 - val_accuracy: 0.9158\n",
            "Epoch 5/5\n",
            "1875/1875 [==============================] - 5s 3ms/step - loss: 0.2819 - accuracy: 0.9175 - val_loss: 0.2504 - val_accuracy: 0.9266\n"
          ],
          "name": "stdout"
        },
        {
          "output_type": "execute_result",
          "data": {
            "text/plain": [
              "<tensorflow.python.keras.callbacks.History at 0x7f992a37f6a0>"
            ]
          },
          "metadata": {
            "tags": []
          },
          "execution_count": 22
        }
      ]
    },
    {
      "cell_type": "markdown",
      "metadata": {
        "id": "VK8VgXHosnnj"
      },
      "source": [
        ""
      ]
    },
    {
      "cell_type": "code",
      "metadata": {
        "id": "Fq-Jp9CKY_3j"
      },
      "source": [
        "VGG16_model2= keras.models.Sequential([ \n",
        "\n",
        "keras.layers.ZeroPadding2D((1,1),input_shape=(28, 28, 1)),\n",
        "keras.layers.Conv2D(32, (3, 3), input_shape=(28, 28, 1), padding='same', activation='relu'),\n",
        "keras.layers.ZeroPadding2D((1,1)),\n",
        "keras.layers.Conv2D(32, (3, 3), input_shape=(28, 28, 1), padding='same', activation='relu'),\n",
        "keras.layers.MaxPool2D(),\n",
        "\n",
        "\n",
        "keras.layers.ZeroPadding2D((1,1)),\n",
        "keras.layers.Conv2D(64, (3, 3), padding='same', activation='relu'),\n",
        "keras.layers.ZeroPadding2D((1,1)),\n",
        "keras.layers.Conv2D(64, (3, 3), padding='same', activation='relu'),\n",
        "keras.layers.ZeroPadding2D((1,1)),\n",
        "keras.layers.Conv2D(64, (3, 3), padding='same', activation='relu'),\n",
        "keras.layers.MaxPool2D((2,2), strides=(2,2)),\n",
        "\n",
        "keras.layers.Conv2D(128, (3, 3), padding='same', activation='relu'),\n",
        "keras.layers.MaxPool2D(),\n",
        "\n",
        "keras.layers.Flatten(),\n",
        "keras.layers.Dense(128, activation='relu'),\n",
        "keras.layers.Dense(10, activation='sigmoid'),\n",
        "]) "
      ],
      "execution_count": null,
      "outputs": []
    },
    {
      "cell_type": "code",
      "metadata": {
        "id": "kVZ1lCQpZQic",
        "outputId": "9e3ff5b9-b3ec-4450-8ca2-45c39acc0eaa",
        "colab": {
          "base_uri": "https://localhost:8080/"
        }
      },
      "source": [
        "VGG16_model2.compile(loss='sparse_categorical_crossentropy', optimizer=tf.optimizers.SGD(lr=0.001), metrics=['accuracy'])\n",
        "\n",
        "VGG16_model2.fit(train_x, train_y, epochs=10, validation_data=(test_x, test_y))"
      ],
      "execution_count": null,
      "outputs": [
        {
          "output_type": "stream",
          "text": [
            "Epoch 1/10\n",
            "1875/1875 [==============================] - 14s 8ms/step - loss: 2.2997 - accuracy: 0.1754 - val_loss: 2.2958 - val_accuracy: 0.2524\n",
            "Epoch 2/10\n",
            "1875/1875 [==============================] - 14s 8ms/step - loss: 2.2897 - accuracy: 0.3423 - val_loss: 2.2796 - val_accuracy: 0.4292\n",
            "Epoch 3/10\n",
            "1875/1875 [==============================] - 14s 8ms/step - loss: 2.0676 - accuracy: 0.4808 - val_loss: 0.9062 - val_accuracy: 0.6973\n",
            "Epoch 4/10\n",
            "1875/1875 [==============================] - 14s 8ms/step - loss: 0.5062 - accuracy: 0.8373 - val_loss: 0.2850 - val_accuracy: 0.9138\n",
            "Epoch 5/10\n",
            "1875/1875 [==============================] - 14s 8ms/step - loss: 0.2699 - accuracy: 0.9168 - val_loss: 0.1968 - val_accuracy: 0.9370\n",
            "Epoch 6/10\n",
            "1875/1875 [==============================] - 15s 8ms/step - loss: 0.1931 - accuracy: 0.9402 - val_loss: 0.1780 - val_accuracy: 0.9415\n",
            "Epoch 7/10\n",
            "1875/1875 [==============================] - 14s 8ms/step - loss: 0.1535 - accuracy: 0.9526 - val_loss: 0.1571 - val_accuracy: 0.9464\n",
            "Epoch 8/10\n",
            "1875/1875 [==============================] - 14s 8ms/step - loss: 0.1299 - accuracy: 0.9605 - val_loss: 0.0984 - val_accuracy: 0.9691\n",
            "Epoch 9/10\n",
            "1875/1875 [==============================] - 14s 8ms/step - loss: 0.1129 - accuracy: 0.9647 - val_loss: 0.0940 - val_accuracy: 0.9696\n",
            "Epoch 10/10\n",
            "1875/1875 [==============================] - 14s 8ms/step - loss: 0.0997 - accuracy: 0.9687 - val_loss: 0.0860 - val_accuracy: 0.9717\n"
          ],
          "name": "stdout"
        },
        {
          "output_type": "execute_result",
          "data": {
            "text/plain": [
              "<tensorflow.python.keras.callbacks.History at 0x7f99063bbb70>"
            ]
          },
          "metadata": {
            "tags": []
          },
          "execution_count": 24
        }
      ]
    },
    {
      "cell_type": "code",
      "metadata": {
        "id": "3dgKLdIchBhu"
      },
      "source": [
        "VGG16_model3= keras.models.Sequential([ \n",
        "\n",
        "keras.layers.ZeroPadding2D((1,1),input_shape=(28, 28, 1)),\n",
        "keras.layers.Conv2D(32, (3, 3), input_shape=(28, 28, 1), padding='same', activation='relu'),\n",
        "keras.layers.ZeroPadding2D((1,1)),\n",
        "keras.layers.Conv2D(32, (3, 3), input_shape=(28, 28, 1), padding='same', activation='relu'),\n",
        "keras.layers.MaxPool2D(),\n",
        "\n",
        "\n",
        "keras.layers.ZeroPadding2D((1,1)),\n",
        "keras.layers.Conv2D(64, (3, 3), padding='same', activation='relu'),\n",
        "keras.layers.ZeroPadding2D((1,1)),\n",
        "keras.layers.Conv2D(64, (3, 3), padding='same', activation='relu'),\n",
        "keras.layers.ZeroPadding2D((1,1)),\n",
        "keras.layers.Conv2D(64, (3, 3), padding='same', activation='relu'),\n",
        "keras.layers.MaxPool2D((2,2), strides=(2,2)),\n",
        "\n",
        "\n",
        "keras.layers.ZeroPadding2D((1,1)),\n",
        "keras.layers.Conv2D(128, (3, 3), padding='same', activation='relu'),\n",
        "keras.layers.ZeroPadding2D((1,1)),\n",
        "keras.layers.Conv2D(128, (3, 3), padding='same', activation='relu'),\n",
        "keras.layers.ZeroPadding2D((1,1)),\n",
        "keras.layers.Conv2D(128, (3, 3), padding='same', activation='relu'),\n",
        "keras.layers.MaxPool2D((2,2), strides=(2,2)),\n",
        "\n",
        "keras.layers.Flatten(),\n",
        "keras.layers.Dense(128, activation='relu'),\n",
        "keras.layers.Dense(10, activation='sigmoid'),\n",
        "]) "
      ],
      "execution_count": null,
      "outputs": []
    },
    {
      "cell_type": "code",
      "metadata": {
        "id": "8GhuGq05bYIs",
        "outputId": "09e9e092-61fd-4554-9249-96f9f35d5cfd",
        "colab": {
          "base_uri": "https://localhost:8080/"
        }
      },
      "source": [
        "VGG16_model3.compile(loss='sparse_categorical_crossentropy', optimizer=tf.optimizers.SGD(lr=0.001), metrics=['accuracy'])\n",
        "\n",
        "VGG16_model3.fit(train_x, train_y, epochs=20, validation_data=(test_x, test_y))"
      ],
      "execution_count": null,
      "outputs": [
        {
          "output_type": "stream",
          "text": [
            "Epoch 1/20\n",
            "1875/1875 [==============================] - 23s 12ms/step - loss: 2.3015 - accuracy: 0.1139 - val_loss: 2.3006 - val_accuracy: 0.1135\n",
            "Epoch 2/20\n",
            "1875/1875 [==============================] - 22s 12ms/step - loss: 2.2999 - accuracy: 0.1124 - val_loss: 2.2990 - val_accuracy: 0.1135\n",
            "Epoch 3/20\n",
            "1875/1875 [==============================] - 22s 12ms/step - loss: 2.2981 - accuracy: 0.1124 - val_loss: 2.2965 - val_accuracy: 0.1135\n",
            "Epoch 4/20\n",
            "1875/1875 [==============================] - 23s 12ms/step - loss: 2.2945 - accuracy: 0.1326 - val_loss: 2.2910 - val_accuracy: 0.2124\n",
            "Epoch 5/20\n",
            "1875/1875 [==============================] - 23s 12ms/step - loss: 2.2837 - accuracy: 0.3058 - val_loss: 2.2688 - val_accuracy: 0.3421\n",
            "Epoch 6/20\n",
            "1875/1875 [==============================] - 22s 12ms/step - loss: 1.7750 - accuracy: 0.4487 - val_loss: 0.5765 - val_accuracy: 0.8221\n",
            "Epoch 7/20\n",
            "1875/1875 [==============================] - 23s 12ms/step - loss: 0.4118 - accuracy: 0.8676 - val_loss: 0.2508 - val_accuracy: 0.9230\n",
            "Epoch 8/20\n",
            "1875/1875 [==============================] - 23s 12ms/step - loss: 0.2341 - accuracy: 0.9265 - val_loss: 0.1801 - val_accuracy: 0.9432\n",
            "Epoch 9/20\n",
            "1875/1875 [==============================] - 22s 12ms/step - loss: 0.1677 - accuracy: 0.9472 - val_loss: 0.1367 - val_accuracy: 0.9568\n",
            "Epoch 10/20\n",
            "1875/1875 [==============================] - 22s 12ms/step - loss: 0.1338 - accuracy: 0.9586 - val_loss: 0.1137 - val_accuracy: 0.9651\n",
            "Epoch 11/20\n",
            "1875/1875 [==============================] - 23s 12ms/step - loss: 0.1132 - accuracy: 0.9646 - val_loss: 0.0945 - val_accuracy: 0.9687\n",
            "Epoch 12/20\n",
            "1875/1875 [==============================] - 23s 12ms/step - loss: 0.0975 - accuracy: 0.9697 - val_loss: 0.0873 - val_accuracy: 0.9715\n",
            "Epoch 13/20\n",
            "1875/1875 [==============================] - 22s 12ms/step - loss: 0.0863 - accuracy: 0.9726 - val_loss: 0.0788 - val_accuracy: 0.9734\n",
            "Epoch 14/20\n",
            "1875/1875 [==============================] - 23s 12ms/step - loss: 0.0785 - accuracy: 0.9755 - val_loss: 0.0756 - val_accuracy: 0.9752\n",
            "Epoch 15/20\n",
            "1875/1875 [==============================] - 23s 12ms/step - loss: 0.0712 - accuracy: 0.9780 - val_loss: 0.0684 - val_accuracy: 0.9792\n",
            "Epoch 16/20\n",
            "1875/1875 [==============================] - 22s 12ms/step - loss: 0.0660 - accuracy: 0.9792 - val_loss: 0.0765 - val_accuracy: 0.9749\n",
            "Epoch 17/20\n",
            "1875/1875 [==============================] - 23s 12ms/step - loss: 0.0602 - accuracy: 0.9815 - val_loss: 0.0661 - val_accuracy: 0.9790\n",
            "Epoch 18/20\n",
            "1875/1875 [==============================] - 23s 12ms/step - loss: 0.0563 - accuracy: 0.9823 - val_loss: 0.0661 - val_accuracy: 0.9798\n",
            "Epoch 19/20\n",
            "1875/1875 [==============================] - 23s 12ms/step - loss: 0.0533 - accuracy: 0.9829 - val_loss: 0.0648 - val_accuracy: 0.9786\n",
            "Epoch 20/20\n",
            "1875/1875 [==============================] - 22s 12ms/step - loss: 0.0495 - accuracy: 0.9839 - val_loss: 0.0576 - val_accuracy: 0.9813\n"
          ],
          "name": "stdout"
        },
        {
          "output_type": "execute_result",
          "data": {
            "text/plain": [
              "<tensorflow.python.keras.callbacks.History at 0x7f9906223a58>"
            ]
          },
          "metadata": {
            "tags": []
          },
          "execution_count": 26
        }
      ]
    },
    {
      "cell_type": "code",
      "metadata": {
        "id": "Rq7LgoO1jtKm",
        "outputId": "7e8cc98f-35dd-4178-d20a-d70a0cd4872c",
        "colab": {
          "base_uri": "https://localhost:8080/"
        }
      },
      "source": [
        "VGG16_model3.evaluate(test_x, test_y)"
      ],
      "execution_count": null,
      "outputs": [
        {
          "output_type": "stream",
          "text": [
            "313/313 [==============================] - 1s 5ms/step - loss: 0.0576 - accuracy: 0.9813\n"
          ],
          "name": "stdout"
        },
        {
          "output_type": "execute_result",
          "data": {
            "text/plain": [
              "[0.05757991224527359, 0.9812999963760376]"
            ]
          },
          "metadata": {
            "tags": []
          },
          "execution_count": 27
        }
      ]
    },
    {
      "cell_type": "markdown",
      "metadata": {
        "id": "Jre0P9-UhwIF"
      },
      "source": [
        "The hypothesis is likely to be true, as we can see, as VGG model gets more complex, it starts to increase its accuracy later and later in the learning process"
      ]
    },
    {
      "cell_type": "markdown",
      "metadata": {
        "id": "MgSvxe7JiOXt"
      },
      "source": [
        "predictions:"
      ]
    },
    {
      "cell_type": "code",
      "metadata": {
        "id": "8u2HcckGj2hH",
        "outputId": "b4ed0258-97e6-4cf3-e618-8cd0202b97a8",
        "colab": {
          "base_uri": "https://localhost:8080/"
        }
      },
      "source": [
        "vgg_predictions = VGG16_model3.predict(test_x)\n",
        "print(vgg_predictions[1])\n",
        "print(np.argmax(vgg_predictions[1]))"
      ],
      "execution_count": null,
      "outputs": [
        {
          "output_type": "stream",
          "text": [
            "[1.2622448e-10 3.1341329e-05 9.2456383e-01 3.3693563e-05 2.4289947e-12\n",
            " 1.6741676e-11 4.2652211e-09 6.3850028e-12 4.3502229e-07 2.2548859e-14]\n",
            "2\n"
          ],
          "name": "stdout"
        }
      ]
    },
    {
      "cell_type": "code",
      "metadata": {
        "id": "MnRQi3s5j_PD",
        "outputId": "9b8389fa-4fbe-4dda-d56c-53c622366049",
        "colab": {
          "base_uri": "https://localhost:8080/",
          "height": 1000
        }
      },
      "source": [
        "vgg_predictions_list = []\n",
        "\n",
        "fig=plt.figure(figsize=(15, 8))\n",
        "columns = 5\n",
        "rows = 1\n",
        "for i in range(1, columns*rows +1):\n",
        "    img = np.squeeze(test_x[i])\n",
        "    fig.add_subplot(rows, columns, i)\n",
        "    plt.imshow(img)\n",
        "    print(\"predicted value:\", np.argmax(vgg_predictions[i]), \"with possibility\", np.max(vgg_predictions[i])) \n",
        "    print(\"most possible values:\", np.flip(np.argsort(vgg_predictions[i]))[:3])\n",
        "    print(\"their possibility:\", np.flip(np.sort(vgg_predictions[i]))[:3])\n",
        "    if (i<6):\n",
        "      vgg_predictions_sublist = \"\"\n",
        "      for idx, val in enumerate(np.flip(np.argsort(vgg_predictions[i]))[:5]):\n",
        "        top_vals = np.flip(np.argsort(vgg_predictions[i]))[:5]\n",
        "        pred_result_string = (f'{np.flip(np.argsort(vgg_predictions[i]))[:5][idx]} {np.flip(np.sort(vgg_predictions[i]))[:5][idx]}')\n",
        "        print(pred_result_string)\n",
        "        vgg_predictions_sublist+=pred_result_string\n",
        "        print(\"vgg_predictions_sublist\",vgg_predictions_sublist)\n",
        "        print(len(vgg_predictions_sublist))\n",
        "      vgg_predictions_list.append(vgg_predictions_sublist)\n",
        "plt.show()\n",
        "print(vgg_predictions_list) "
      ],
      "execution_count": null,
      "outputs": [
        {
          "output_type": "stream",
          "text": [
            "predicted value: 2 with possibility 0.9245638\n",
            "most possible values: [2 3 1]\n",
            "their possibility: [9.2456383e-01 3.3693563e-05 3.1341329e-05]\n",
            "2 0.9245638251304626\n",
            "vgg_predictions_sublist 2 0.9245638251304626\n",
            "20\n",
            "3 3.369356272742152e-05\n",
            "vgg_predictions_sublist 2 0.92456382513046263 3.369356272742152e-05\n",
            "43\n",
            "1 3.1341329304268584e-05\n",
            "vgg_predictions_sublist 2 0.92456382513046263 3.369356272742152e-051 3.1341329304268584e-05\n",
            "67\n",
            "8 4.350222866378317e-07\n",
            "vgg_predictions_sublist 2 0.92456382513046263 3.369356272742152e-051 3.1341329304268584e-058 4.350222866378317e-07\n",
            "90\n",
            "6 4.265221065224978e-09\n",
            "vgg_predictions_sublist 2 0.92456382513046263 3.369356272742152e-051 3.1341329304268584e-058 4.350222866378317e-076 4.265221065224978e-09\n",
            "113\n",
            "predicted value: 1 with possibility 0.14182219\n",
            "most possible values: [1 7 4]\n",
            "their possibility: [1.4182219e-01 7.9035548e-05 6.7533423e-05]\n",
            "1 0.1418221890926361\n",
            "vgg_predictions_sublist 1 0.1418221890926361\n",
            "20\n",
            "7 7.903554796939716e-05\n",
            "vgg_predictions_sublist 1 0.14182218909263617 7.903554796939716e-05\n",
            "43\n",
            "4 6.753342313459143e-05\n",
            "vgg_predictions_sublist 1 0.14182218909263617 7.903554796939716e-054 6.753342313459143e-05\n",
            "66\n",
            "6 5.916733789490536e-05\n",
            "vgg_predictions_sublist 1 0.14182218909263617 7.903554796939716e-054 6.753342313459143e-056 5.916733789490536e-05\n",
            "89\n",
            "8 1.56561000039801e-05\n",
            "vgg_predictions_sublist 1 0.14182218909263617 7.903554796939716e-054 6.753342313459143e-056 5.916733789490536e-058 1.56561000039801e-05\n",
            "111\n",
            "predicted value: 0 with possibility 0.05947483\n",
            "most possible values: [0 2 6]\n",
            "their possibility: [5.947483e-02 6.969445e-08 6.085308e-08]\n",
            "0 0.05947482958436012\n",
            "vgg_predictions_sublist 0 0.05947482958436012\n",
            "21\n",
            "2 6.969445109916705e-08\n",
            "vgg_predictions_sublist 0 0.059474829584360122 6.969445109916705e-08\n",
            "44\n",
            "6 6.085308257297584e-08\n",
            "vgg_predictions_sublist 0 0.059474829584360122 6.969445109916705e-086 6.085308257297584e-08\n",
            "67\n",
            "9 5.061185603949525e-08\n",
            "vgg_predictions_sublist 0 0.059474829584360122 6.969445109916705e-086 6.085308257297584e-089 5.061185603949525e-08\n",
            "90\n",
            "5 6.082160997067376e-09\n",
            "vgg_predictions_sublist 0 0.059474829584360122 6.969445109916705e-086 6.085308257297584e-089 5.061185603949525e-085 6.082160997067376e-09\n",
            "113\n",
            "predicted value: 4 with possibility 0.58727807\n",
            "most possible values: [4 9 7]\n",
            "their possibility: [5.8727807e-01 5.7883899e-05 1.1865092e-05]\n",
            "4 0.5872780680656433\n",
            "vgg_predictions_sublist 4 0.5872780680656433\n",
            "20\n",
            "9 5.788389898953028e-05\n",
            "vgg_predictions_sublist 4 0.58727806806564339 5.788389898953028e-05\n",
            "43\n",
            "7 1.186509234685218e-05\n",
            "vgg_predictions_sublist 4 0.58727806806564339 5.788389898953028e-057 1.186509234685218e-05\n",
            "66\n",
            "1 5.121593176227179e-07\n",
            "vgg_predictions_sublist 4 0.58727806806564339 5.788389898953028e-057 1.186509234685218e-051 5.121593176227179e-07\n",
            "89\n",
            "2 7.902614385102424e-08\n",
            "vgg_predictions_sublist 4 0.58727806806564339 5.788389898953028e-057 1.186509234685218e-051 5.121593176227179e-072 7.902614385102424e-08\n",
            "112\n",
            "predicted value: 1 with possibility 0.16338666\n",
            "most possible values: [1 7 4]\n",
            "their possibility: [1.6338666e-01 7.7206678e-05 3.6376641e-06]\n",
            "1 0.16338665783405304\n",
            "vgg_predictions_sublist 1 0.16338665783405304\n",
            "21\n",
            "7 7.720667781541124e-05\n",
            "vgg_predictions_sublist 1 0.163386657834053047 7.720667781541124e-05\n",
            "44\n",
            "4 3.6376641219248995e-06\n",
            "vgg_predictions_sublist 1 0.163386657834053047 7.720667781541124e-054 3.6376641219248995e-06\n",
            "68\n",
            "8 3.9282662100958987e-07\n",
            "vgg_predictions_sublist 1 0.163386657834053047 7.720667781541124e-054 3.6376641219248995e-068 3.9282662100958987e-07\n",
            "92\n",
            "9 3.483522448277654e-07\n",
            "vgg_predictions_sublist 1 0.163386657834053047 7.720667781541124e-054 3.6376641219248995e-068 3.9282662100958987e-079 3.483522448277654e-07\n",
            "115\n"
          ],
          "name": "stdout"
        },
        {
          "output_type": "display_data",
          "data": {
            "image/png": "[encoded data removed]",
            "text/plain": [
              "<Figure size 1080x576 with 5 Axes>"
            ]
          },
          "metadata": {
            "tags": [],
            "needs_background": "light"
          }
        },
        {
          "output_type": "stream",
          "text": [
            "['2 0.92456382513046263 3.369356272742152e-051 3.1341329304268584e-058 4.350222866378317e-076 4.265221065224978e-09', '1 0.14182218909263617 7.903554796939716e-054 6.753342313459143e-056 5.916733789490536e-058 1.56561000039801e-05', '0 0.059474829584360122 6.969445109916705e-086 6.085308257297584e-089 5.061185603949525e-085 6.082160997067376e-09', '4 0.58727806806564339 5.788389898953028e-057 1.186509234685218e-051 5.121593176227179e-072 7.902614385102424e-08', '1 0.163386657834053047 7.720667781541124e-054 3.6376641219248995e-068 3.9282662100958987e-079 3.483522448277654e-07']\n"
          ],
          "name": "stdout"
        }
      ]
    },
    {
      "cell_type": "markdown",
      "metadata": {
        "id": "rCbwZprLiR77"
      },
      "source": [
        "table of predictions:"
      ]
    },
    {
      "cell_type": "code",
      "metadata": {
        "id": "ttvrTM4YaQdZ",
        "outputId": "bebcb398-2ce9-43cb-a20d-f135d7ab92ea",
        "colab": {
          "base_uri": "https://localhost:8080/"
        }
      },
      "source": [
        "print(alex_predictions_list)\n",
        "print(vgg_predictions_list)\n",
        "print(lenet_5_predictions_list)\n",
        "final_results = []\n",
        "final_results.append(alex_predictions_list)\n",
        "final_results.append(vgg_predictions_list)\n",
        "final_results.append(lenet_5_predictions_list)\n",
        "print(final_results)"
      ],
      "execution_count": null,
      "outputs": [
        {
          "output_type": "stream",
          "text": [
            "['2 0.99995803833007818 3.117171218036674e-056 4.543619979813229e-061 2.922328803833807e-063 2.158193638024386e-06', '1 0.99994540214538578 2.7378777303965762e-056 1.945362237165682e-057 4.79085611004848e-064 1.6130319409057847e-06', '0 0.99987566471099856 9.386595047544688e-055 9.209874406224117e-069 8.67352991917869e-062 6.377389127010247e-06', '4 0.99997985363006599 1.7599290004000068e-057 1.3517819752451032e-066 8.910643032322696e-078 1.1924332454782416e-07', '1 0.99989354610443128 5.302903809933923e-057 3.354571163072251e-056 1.47577002280741e-054 3.868940439133439e-06']\n",
            "['2 0.92456382513046263 3.369356272742152e-051 3.1341329304268584e-058 4.350222866378317e-076 4.265221065224978e-09', '1 0.14182218909263617 7.903554796939716e-054 6.753342313459143e-056 5.916733789490536e-058 1.56561000039801e-05', '0 0.059474829584360122 6.969445109916705e-086 6.085308257297584e-089 5.061185603949525e-085 6.082160997067376e-09', '4 0.58727806806564339 5.788389898953028e-057 1.186509234685218e-051 5.121593176227179e-072 7.902614385102424e-08', '1 0.163386657834053047 7.720667781541124e-054 3.6376641219248995e-068 3.9282662100958987e-079 3.483522448277654e-07']\n",
            "['2 0.99995803833007818 3.117171218036674e-056 4.543619979813229e-061 2.922328803833807e-063 2.158193638024386e-06', '1 0.99994540214538578 2.7378777303965762e-056 1.945362237165682e-057 4.79085611004848e-064 1.6130319409057847e-06', '0 0.99987566471099856 9.386595047544688e-055 9.209874406224117e-069 8.67352991917869e-062 6.377389127010247e-06', '4 0.99997985363006599 1.7599290004000068e-057 1.3517819752451032e-066 8.910643032322696e-078 1.1924332454782416e-07', '1 0.99989354610443128 5.302903809933923e-057 3.354571163072251e-056 1.47577002280741e-054 3.868940439133439e-06']\n",
            "[['2 0.99995803833007818 3.117171218036674e-056 4.543619979813229e-061 2.922328803833807e-063 2.158193638024386e-06', '1 0.99994540214538578 2.7378777303965762e-056 1.945362237165682e-057 4.79085611004848e-064 1.6130319409057847e-06', '0 0.99987566471099856 9.386595047544688e-055 9.209874406224117e-069 8.67352991917869e-062 6.377389127010247e-06', '4 0.99997985363006599 1.7599290004000068e-057 1.3517819752451032e-066 8.910643032322696e-078 1.1924332454782416e-07', '1 0.99989354610443128 5.302903809933923e-057 3.354571163072251e-056 1.47577002280741e-054 3.868940439133439e-06'], ['2 0.92456382513046263 3.369356272742152e-051 3.1341329304268584e-058 4.350222866378317e-076 4.265221065224978e-09', '1 0.14182218909263617 7.903554796939716e-054 6.753342313459143e-056 5.916733789490536e-058 1.56561000039801e-05', '0 0.059474829584360122 6.969445109916705e-086 6.085308257297584e-089 5.061185603949525e-085 6.082160997067376e-09', '4 0.58727806806564339 5.788389898953028e-057 1.186509234685218e-051 5.121593176227179e-072 7.902614385102424e-08', '1 0.163386657834053047 7.720667781541124e-054 3.6376641219248995e-068 3.9282662100958987e-079 3.483522448277654e-07'], ['2 0.99995803833007818 3.117171218036674e-056 4.543619979813229e-061 2.922328803833807e-063 2.158193638024386e-06', '1 0.99994540214538578 2.7378777303965762e-056 1.945362237165682e-057 4.79085611004848e-064 1.6130319409057847e-06', '0 0.99987566471099856 9.386595047544688e-055 9.209874406224117e-069 8.67352991917869e-062 6.377389127010247e-06', '4 0.99997985363006599 1.7599290004000068e-057 1.3517819752451032e-066 8.910643032322696e-078 1.1924332454782416e-07', '1 0.99989354610443128 5.302903809933923e-057 3.354571163072251e-056 1.47577002280741e-054 3.868940439133439e-06']]\n"
          ],
          "name": "stdout"
        }
      ]
    },
    {
      "cell_type": "code",
      "metadata": {
        "id": "Yh9eLoJvn748",
        "outputId": "90698e94-884a-4043-a8e8-005653691de3",
        "colab": {
          "base_uri": "https://localhost:8080/",
          "height": 214
        }
      },
      "source": [
        "import numpy as np\n",
        "import matplotlib.pyplot as plt\n",
        "title_text = 'Table'\n",
        "fig_background_color = 'skyblue'\n",
        "fig_border = 'steelblue'\n",
        "# Pop the headers from the data array\n",
        "column_headers = ['Pic 1', 'Pic 2', 'Pic 3', 'Pic 4', 'Pic 5']\n",
        "row_headers = ['AlexNet', 'VGG', 'Lenet5']\n",
        "cell_text = final_results\n",
        "print(cell_text)\n",
        "print(len(cell_text))\n",
        "# Get some lists of color specs for row and column headers\n",
        "rcolors = plt.cm.BuPu(np.full(len(row_headers), 0.1))\n",
        "ccolors = plt.cm.BuPu(np.full(len(column_headers), 0.1))\n",
        "# Create the figure. Setting a small pad on tight_layout\n",
        "# seems to better regulate white space. Sometimes experimenting\n",
        "# with an explicit figsize here can produce better outcome.\n",
        "plt.figure(linewidth=2,\n",
        "           edgecolor=fig_border,\n",
        "           facecolor=fig_background_color,\n",
        "           tight_layout={'pad':1},\n",
        "           #figsize=(5,3)\n",
        "          )\n",
        "# Add a table at the bottom of the axes\n",
        "the_table = plt.table(cellText=cell_text,\n",
        "                      rowLabels=row_headers,\n",
        "                      rowColours=rcolors,\n",
        "                      rowLoc='right',\n",
        "                      colColours=ccolors,\n",
        "                      colLabels=column_headers,\n",
        "                      loc='center')\n",
        "# Scaling is the only influence we have over top and bottom cell padding.\n",
        "# Make the rows taller (i.e., make cell y scale larger).\n",
        "the_table.scale(12, 6)\n",
        "# Hide axes\n",
        "ax = plt.gca()\n",
        "ax.get_xaxis().set_visible(False)\n",
        "ax.get_yaxis().set_visible(False)\n",
        "# Hide axes border\n",
        "plt.box(on=None)\n",
        "# Add title\n",
        "plt.suptitle(title_text) \n",
        "# Force the figure to update, so backends center objects correctly within the figure.\n",
        "# Without plt.draw() here, the title will center on the axes and not the figure.\n",
        "plt.draw()\n",
        "# Create image. plt.savefig ignores figure edge and face colors, so map them.\n",
        "fig = plt.gcf()\n"
      ],
      "execution_count": null,
      "outputs": [
        {
          "output_type": "stream",
          "text": [
            "[['2 0.99995803833007818 3.117171218036674e-056 4.543619979813229e-061 2.922328803833807e-063 2.158193638024386e-06', '1 0.99994540214538578 2.7378777303965762e-056 1.945362237165682e-057 4.79085611004848e-064 1.6130319409057847e-06', '0 0.99987566471099856 9.386595047544688e-055 9.209874406224117e-069 8.67352991917869e-062 6.377389127010247e-06', '4 0.99997985363006599 1.7599290004000068e-057 1.3517819752451032e-066 8.910643032322696e-078 1.1924332454782416e-07', '1 0.99989354610443128 5.302903809933923e-057 3.354571163072251e-056 1.47577002280741e-054 3.868940439133439e-06'], ['2 0.92456382513046263 3.369356272742152e-051 3.1341329304268584e-058 4.350222866378317e-076 4.265221065224978e-09', '1 0.14182218909263617 7.903554796939716e-054 6.753342313459143e-056 5.916733789490536e-058 1.56561000039801e-05', '0 0.059474829584360122 6.969445109916705e-086 6.085308257297584e-089 5.061185603949525e-085 6.082160997067376e-09', '4 0.58727806806564339 5.788389898953028e-057 1.186509234685218e-051 5.121593176227179e-072 7.902614385102424e-08', '1 0.163386657834053047 7.720667781541124e-054 3.6376641219248995e-068 3.9282662100958987e-079 3.483522448277654e-07'], ['2 0.99995803833007818 3.117171218036674e-056 4.543619979813229e-061 2.922328803833807e-063 2.158193638024386e-06', '1 0.99994540214538578 2.7378777303965762e-056 1.945362237165682e-057 4.79085611004848e-064 1.6130319409057847e-06', '0 0.99987566471099856 9.386595047544688e-055 9.209874406224117e-069 8.67352991917869e-062 6.377389127010247e-06', '4 0.99997985363006599 1.7599290004000068e-057 1.3517819752451032e-066 8.910643032322696e-078 1.1924332454782416e-07', '1 0.99989354610443128 5.302903809933923e-057 3.354571163072251e-056 1.47577002280741e-054 3.868940439133439e-06']]\n",
            "3\n"
          ],
          "name": "stdout"
        },
        {
          "output_type": "stream",
          "text": [
            "/usr/local/lib/python3.6/dist-packages/ipykernel_launcher.py:45: UserWarning: Tight layout not applied. The left and right margins cannot be made large enough to accommodate all axes decorations. \n",
            "/usr/local/lib/python3.6/dist-packages/IPython/core/pylabtools.py:125: UserWarning: Tight layout not applied. The left and right margins cannot be made large enough to accommodate all axes decorations. \n",
            "  fig.canvas.print_figure(bytes_io, **kw)\n"
          ],
          "name": "stderr"
        },
        {
          "output_type": "display_data",
          "data": {
            "image/png": "[encoded data removed]",
            "text/plain": [
              "<Figure size 432x288 with 1 Axes>"
            ]
          },
          "metadata": {
            "tags": []
          }
        }
      ]
    },
    {
      "cell_type": "markdown",
      "metadata": {
        "id": "nGJrt9nXFvJK"
      },
      "source": [
        "edit a number"
      ]
    },
    {
      "cell_type": "code",
      "metadata": {
        "id": "hPZFX6YHFu16",
        "outputId": "5cb53b31-a7b5-4f78-ed75-f5b122659e53",
        "colab": {
          "base_uri": "https://localhost:8080/"
        }
      },
      "source": [
        "pip install pillow"
      ],
      "execution_count": null,
      "outputs": [
        {
          "output_type": "stream",
          "text": [
            "Requirement already satisfied: pillow in /usr/local/lib/python3.6/dist-packages (7.0.0)\n"
          ],
          "name": "stdout"
        }
      ]
    },
    {
      "cell_type": "code",
      "metadata": {
        "id": "b814pVyfLIjL",
        "outputId": "8df3a29b-0826-466b-dec5-01626ece13bd",
        "colab": {
          "base_uri": "https://localhost:8080/",
          "height": 265
        }
      },
      "source": [
        "from PIL import Image, ImageFilter\n",
        "from matplotlib import pyplot as plt\n",
        "\n",
        "\n",
        "def imageprepare(argv):\n",
        "    \"\"\"\n",
        "    This function returns the pixel values.\n",
        "    The imput is a png file location.\n",
        "    \"\"\"\n",
        "    im = Image.open(argv).convert('L')\n",
        "    width = float(im.size[0])\n",
        "    height = float(im.size[1])\n",
        "    newImage = Image.new('L', (28, 28), (255))  # creates white canvas of 28x28 pixels\n",
        "\n",
        "    if width > height:  # check which dimension is bigger\n",
        "        # Width is bigger. Width becomes 20 pixels.\n",
        "        nheight = int(round((20.0 / width * height), 0))  # resize height according to ratio width\n",
        "        if (nheight == 0):  # rare case but minimum is 1 pixel\n",
        "            nheight = 1\n",
        "            # resize and sharpen\n",
        "        img = im.resize((20, nheight), Image.ANTIALIAS).filter(ImageFilter.SHARPEN)\n",
        "        wtop = int(round(((28 - nheight) / 2), 0))  # calculate horizontal position\n",
        "        newImage.paste(img, (4, wtop))  # paste resized image on white canvas\n",
        "    else:\n",
        "        # Height is bigger. Heigth becomes 20 pixels.\n",
        "        nwidth = int(round((20.0 / height * width), 0))  # resize width according to ratio height\n",
        "        if (nwidth == 0):  # rare case but minimum is 1 pixel\n",
        "            nwidth = 1\n",
        "            # resize and sharpen\n",
        "        img = im.resize((nwidth, 20), Image.ANTIALIAS).filter(ImageFilter.SHARPEN)\n",
        "        wleft = int(round(((28 - nwidth) / 2), 0))  # caculate vertical pozition\n",
        "        newImage.paste(img, (wleft, 4))  # paste resized image on white canvas\n",
        "\n",
        "    # newImage.save(\"sample.png\n",
        "\n",
        "    tv = list(newImage.getdata())  # get pixel values\n",
        "\n",
        "    # normalize pixels to 0 and 1. 0 is pure white, 1 is pure black.\n",
        "    tva = [(255 - x) * 1.0 / 255.0 for x in tv] \n",
        "    return tva\n",
        "\n",
        "#x=[imageprepare('/content/drive/My Drive/resized/4.jpg')]#file path here \n",
        "x=[imageprepare('image.png')]#file path here \n",
        "#Now we convert 784 sized 1d array to 24x24 sized 2d array so that we can visualize it\n",
        "newArr=[[0 for d in range(28)] for y in range(28)]\n",
        "k = 0\n",
        "for i in range(28):\n",
        "    for j in range(28):\n",
        "        newArr[i][j]=x[0][k]\n",
        "        k=k+1\n",
        "\n",
        "\n",
        "plt.imshow(newArr, interpolation='nearest') \n",
        "# plt.savefig('MNIST_IMAGE.png')#save MNIST image\n",
        "plt.show()#Show / plot that image\n"
      ],
      "execution_count": null,
      "outputs": [
        {
          "output_type": "display_data",
          "data": {
            "image/png": "[encoded data removed]",
            "text/plain": [
              "<Figure size 432x288 with 1 Axes>"
            ]
          },
          "metadata": {
            "tags": [],
            "needs_background": "light"
          }
        }
      ]
    },
    {
      "cell_type": "markdown",
      "metadata": {
        "id": "9NaEKbwOwVn3"
      },
      "source": [
        "# Новый раздел"
      ]
    },
    {
      "cell_type": "markdown",
      "metadata": {
        "id": "cVnSLhPJbdZ2"
      },
      "source": [
        ""
      ]
    },
    {
      "cell_type": "code",
      "metadata": {
        "id": "6Yx_8Hga-kcy",
        "outputId": "4adda527-a390-4116-cbc5-cea5603dc2a5",
        "colab": {
          "base_uri": "https://localhost:8080/",
          "height": 534
        }
      },
      "source": [
        "first = np.asarray(newArr).reshape(1,28,28)\n",
        " \n",
        "fig=plt.figure(figsize=(15, 8)) \n",
        "img = np.squeeze(first) \n",
        "plt.imshow(img)\n",
        "  \n",
        "result = np.zeros((1,28,28))\n",
        "np.dstack((result,first))\n",
        "\n",
        "result = result / 255.0  \n",
        "result = tf.expand_dims(result, 3)  \n",
        "  \n",
        "alex_predictions = lenet_5_model.predict(result)  \n",
        " \n",
        "print(alex_predictions[0])\n",
        "print(np.argmax(alex_predictions[0])) "
      ],
      "execution_count": null,
      "outputs": [
        {
          "output_type": "stream",
          "text": [
            "[4.5022881e-07 2.5172761e-02 1.1949763e-06 8.2131875e-05 2.2707159e-04\n",
            " 2.4648858e-04 9.4134748e-07 9.7422099e-01 2.7544159e-10 4.7908332e-05]\n",
            "7\n"
          ],
          "name": "stdout"
        },
        {
          "output_type": "display_data",
          "data": {
            "image/png": "[encoded data removed]",
            "text/plain": [
              "<Figure size 1080x576 with 1 Axes>"
            ]
          },
          "metadata": {
            "tags": [],
            "needs_background": "light"
          }
        }
      ]
    },
    {
      "cell_type": "code",
      "metadata": {
        "id": "SdPAMVNla88N",
        "outputId": "301b917b-1789-4484-eedb-a6cd6dd6ab62",
        "colab": {
          "base_uri": "https://localhost:8080/"
        }
      },
      "source": [
        "example = np.asarray(newArr).reshape(1, 28, 28)\n",
        "example = example / 255.0  \n",
        "example = tf.expand_dims(example, 3)  \n",
        "  \n",
        "alex_predictions = lenet_5_model.predict(example)  \n",
        " \n",
        "print(alex_predictions[0])\n",
        "print(np.argmax(alex_predictions[0])) "
      ],
      "execution_count": null,
      "outputs": [
        {
          "output_type": "stream",
          "text": [
            "[2.3239173e-07 2.3133058e-02 2.8654365e-06 1.2473526e-04 3.7585042e-04\n",
            " 4.3999086e-04 1.1205971e-06 9.7588509e-01 4.2926074e-10 3.7029004e-05]\n",
            "7\n"
          ],
          "name": "stdout"
        }
      ]
    },
    {
      "cell_type": "code",
      "metadata": {
        "id": "e2dPGDKgvBcl",
        "outputId": "f01a4665-5283-4115-a14a-b0d141f97074",
        "colab": {
          "base_uri": "https://localhost:8080/"
        }
      },
      "source": [
        "from google.colab import drive\n",
        "drive.mount('/content/drive')\n"
      ],
      "execution_count": null,
      "outputs": [
        {
          "output_type": "stream",
          "text": [
            "Mounted at /content/drive\n"
          ],
          "name": "stdout"
        }
      ]
    },
    {
      "cell_type": "code",
      "metadata": {
        "id": "gPRvcqyrvLQ5"
      },
      "source": [
        ""
      ],
      "execution_count": null,
      "outputs": []
    }
  ]
}